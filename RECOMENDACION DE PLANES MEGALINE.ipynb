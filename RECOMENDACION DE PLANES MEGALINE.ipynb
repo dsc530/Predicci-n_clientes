{
 "cells": [
  {
   "cell_type": "markdown",
   "metadata": {},
   "source": [
    "# RECOMENDACION DE PLANES MEGALINE\n",
    "En este proyecto se busca entrenar un modelo de machine learning, para que la computadora haga una recomendación del plan mas adecuado de acuerdo al cliente"
   ]
  },
  {
   "cell_type": "markdown",
   "metadata": {},
   "source": [
    "Objetivos:\n",
    "- Procesar los datos y dividirlos para generar un dataset de entrenamiento, uno de validación y otro de prueba.\n",
    "- Investigar la calidad de diferentes modelos (tomando en cuenta sus hiper parámtros).\n",
    "- Validar la calidad del modelo escogido con el conjunto de prueba.\n",
    "- Hacer una prueba de cordura del modelo"
   ]
  },
  {
   "cell_type": "markdown",
   "metadata": {},
   "source": [
    "## IMPORTACIÓN DE LIBRERÍAS"
   ]
  },
  {
   "cell_type": "code",
   "execution_count": 1,
   "metadata": {},
   "outputs": [],
   "source": [
    "import pandas as pd\n",
    "from sklearn.model_selection import train_test_split\n",
    "from sklearn.metrics import accuracy_score\n",
    "from sklearn.tree import DecisionTreeClassifier, plot_tree\n",
    "from sklearn.ensemble import RandomForestClassifier\n",
    "from sklearn.linear_model import LogisticRegression\n",
    "\n",
    "import matplotlib.pyplot as plt\n",
    "from sklearn.utils import shuffle\n",
    "from sklearn.model_selection import cross_val_score\n",
    "import numpy as np"
   ]
  },
  {
   "cell_type": "markdown",
   "metadata": {},
   "source": [
    "## IMPORTACIÓN DE LOS DATOS"
   ]
  },
  {
   "cell_type": "code",
   "execution_count": 2,
   "metadata": {},
   "outputs": [
    {
     "name": "stdout",
     "output_type": "stream",
     "text": [
      "      calls  minutes  messages   mb_used  is_ultra\n",
      "0      40.0   311.90      83.0  19915.42         0\n",
      "1      85.0   516.75      56.0  22696.96         0\n",
      "2      77.0   467.66      86.0  21060.45         0\n",
      "3     106.0   745.53      81.0   8437.39         1\n",
      "4      66.0   418.74       1.0  14502.75         0\n",
      "...     ...      ...       ...       ...       ...\n",
      "3209  122.0   910.98      20.0  35124.90         1\n",
      "3210   25.0   190.36       0.0   3275.61         0\n",
      "3211   97.0   634.44      70.0  13974.06         0\n",
      "3212   64.0   462.32      90.0  31239.78         0\n",
      "3213   80.0   566.09       6.0  29480.52         1\n",
      "\n",
      "[3214 rows x 5 columns]\n"
     ]
    }
   ],
   "source": [
    "user_info = pd.read_csv('/datasets/users_behavior.csv')\n",
    "print(user_info)"
   ]
  },
  {
   "cell_type": "markdown",
   "metadata": {},
   "source": [
    "## ANÁLISIS DE DATOS"
   ]
  },
  {
   "cell_type": "markdown",
   "metadata": {},
   "source": [
    "### Comprobación de tipos de dato, nulos, duplicados"
   ]
  },
  {
   "cell_type": "code",
   "execution_count": 3,
   "metadata": {},
   "outputs": [
    {
     "name": "stdout",
     "output_type": "stream",
     "text": [
      "<class 'pandas.core.frame.DataFrame'>\n",
      "RangeIndex: 3214 entries, 0 to 3213\n",
      "Data columns (total 5 columns):\n",
      " #   Column    Non-Null Count  Dtype  \n",
      "---  ------    --------------  -----  \n",
      " 0   calls     3214 non-null   float64\n",
      " 1   minutes   3214 non-null   float64\n",
      " 2   messages  3214 non-null   float64\n",
      " 3   mb_used   3214 non-null   float64\n",
      " 4   is_ultra  3214 non-null   int64  \n",
      "dtypes: float64(4), int64(1)\n",
      "memory usage: 125.7 KB\n"
     ]
    }
   ],
   "source": [
    "user_info.info()"
   ]
  },
  {
   "cell_type": "code",
   "execution_count": 4,
   "metadata": {},
   "outputs": [
    {
     "data": {
      "text/html": [
       "<div>\n",
       "<style scoped>\n",
       "    .dataframe tbody tr th:only-of-type {\n",
       "        vertical-align: middle;\n",
       "    }\n",
       "\n",
       "    .dataframe tbody tr th {\n",
       "        vertical-align: top;\n",
       "    }\n",
       "\n",
       "    .dataframe thead th {\n",
       "        text-align: right;\n",
       "    }\n",
       "</style>\n",
       "<table border=\"1\" class=\"dataframe\">\n",
       "  <thead>\n",
       "    <tr style=\"text-align: right;\">\n",
       "      <th></th>\n",
       "      <th>calls</th>\n",
       "      <th>minutes</th>\n",
       "      <th>messages</th>\n",
       "      <th>mb_used</th>\n",
       "      <th>is_ultra</th>\n",
       "    </tr>\n",
       "  </thead>\n",
       "  <tbody>\n",
       "  </tbody>\n",
       "</table>\n",
       "</div>"
      ],
      "text/plain": [
       "Empty DataFrame\n",
       "Columns: [calls, minutes, messages, mb_used, is_ultra]\n",
       "Index: []"
      ]
     },
     "execution_count": 4,
     "metadata": {},
     "output_type": "execute_result"
    }
   ],
   "source": [
    "#comprobación de duplicados\n",
    "user_info[user_info.duplicated()]"
   ]
  },
  {
   "cell_type": "code",
   "execution_count": 5,
   "metadata": {
    "scrolled": true
   },
   "outputs": [
    {
     "data": {
      "text/plain": [
       "array([0, 1])"
      ]
     },
     "execution_count": 5,
     "metadata": {},
     "output_type": "execute_result"
    }
   ],
   "source": [
    "#Comprobación de que la columna target tenga solo los datos 0 o 1\n",
    "user_info['is_ultra'].unique()"
   ]
  },
  {
   "cell_type": "markdown",
   "metadata": {},
   "source": [
    "## SEGMENTACIÓN DE DATOS"
   ]
  },
  {
   "cell_type": "markdown",
   "metadata": {},
   "source": [
    "### Separación Columnas de Características y Objetivo"
   ]
  },
  {
   "cell_type": "code",
   "execution_count": 6,
   "metadata": {},
   "outputs": [],
   "source": [
    "features = user_info.drop(['is_ultra'],axis=1)\n",
    "target = user_info['is_ultra']"
   ]
  },
  {
   "cell_type": "markdown",
   "metadata": {},
   "source": [
    "### División de datos en 3 conjuntos: entrenamiento, validación, prueba"
   ]
  },
  {
   "cell_type": "code",
   "execution_count": 7,
   "metadata": {},
   "outputs": [],
   "source": [
    "#Separación del data frame en train 60% y temporal 40% (se va a volver a dividir)\n",
    "train_features,temp_features,train_target,temp_target = train_test_split(features,target,\n",
    "                                                                         test_size=0.4,\n",
    "                                                                        random_state=54321) "
   ]
  },
  {
   "cell_type": "code",
   "execution_count": 8,
   "metadata": {},
   "outputs": [
    {
     "name": "stdout",
     "output_type": "stream",
     "text": [
      "(1928, 4)\n",
      "(1928,)\n",
      "(1286, 4)\n",
      "(1286,)\n"
     ]
    }
   ],
   "source": [
    "#Comprobación de que la separación se realizó correctamente\n",
    "print(train_features.shape)\n",
    "print(train_target.shape)\n",
    "print(temp_features.shape)\n",
    "print(temp_target.shape)"
   ]
  },
  {
   "cell_type": "code",
   "execution_count": 9,
   "metadata": {},
   "outputs": [],
   "source": [
    "#Separación del data frame temp en validate 50% y test 50% \n",
    "val_features,test_features,val_target,test_target = train_test_split(temp_features,temp_target,\n",
    "                                                                         test_size=0.5,\n",
    "                                                                        random_state=54321) "
   ]
  },
  {
   "cell_type": "code",
   "execution_count": 10,
   "metadata": {},
   "outputs": [
    {
     "name": "stdout",
     "output_type": "stream",
     "text": [
      "(643, 4)\n",
      "(643,)\n",
      "(643, 4)\n",
      "(643,)\n"
     ]
    }
   ],
   "source": [
    "#Comprobación de que la separación se realizó correctamente\n",
    "print(val_features.shape)\n",
    "print(val_target.shape)\n",
    "print(test_features.shape)\n",
    "print(test_target.shape)"
   ]
  },
  {
   "cell_type": "markdown",
   "metadata": {},
   "source": [
    "## CALIDAD DE MODELOS DE CLASIFICACIÍON"
   ]
  },
  {
   "cell_type": "markdown",
   "metadata": {},
   "source": [
    "### Comparación de Modelos "
   ]
  },
  {
   "cell_type": "markdown",
   "metadata": {},
   "source": [
    "#### Árbol de Decisión"
   ]
  },
  {
   "cell_type": "code",
   "execution_count": 11,
   "metadata": {},
   "outputs": [
    {
     "name": "stdout",
     "output_type": "stream",
     "text": [
      "la exactitud para 1 es: 0.7216174183514774\n",
      "la exactitud para 2 es: 0.7418351477449455\n",
      "la exactitud para 3 es: 0.7651632970451011\n",
      "la exactitud para 4 es: 0.744945567651633\n",
      "la exactitud para 5 es: 0.7651632970451011\n",
      "la exactitud para 6 es: 0.7542768273716952\n",
      "la exactitud para 7 es: 0.7433903576982893\n",
      "la exactitud para 8 es: 0.7511664074650077\n",
      "la exactitud para 9 es: 0.7682737169517885\n",
      "la exactitud para 10 es: 0.7822706065318819\n",
      "La mayor exactitud es: 0.7822706065318819 con una profundidad de árbol de: 10\n"
     ]
    }
   ],
   "source": [
    "#Entrenamiento de modelo y prueba de exactitud conjunto de validación\n",
    "best_acc = 0\n",
    "\n",
    "#Lazo incremento hiperparametro de profundidad del árbol y comparación de exactitud\n",
    "for depth in range(1,11):\n",
    "    model_dt = DecisionTreeClassifier(random_state=54321,max_depth=depth)\n",
    "    model_dt.fit(train_features,train_target)\n",
    "    predictions_dt = model_dt.predict(val_features)\n",
    "    accuracy = accuracy_score(val_target,predictions_dt)\n",
    "    print('la exactitud para',depth,'es:',accuracy)\n",
    "    if accuracy > best_acc:\n",
    "        best_acc = accuracy\n",
    "        best_depth=depth\n",
    "        \n",
    "print ('La mayor exactitud es:',best_acc,'con una profundidad de árbol de:',best_depth)"
   ]
  },
  {
   "cell_type": "code",
   "execution_count": 12,
   "metadata": {},
   "outputs": [
    {
     "name": "stdout",
     "output_type": "stream",
     "text": [
      "La exactitud con conjunto de entrenamiento: 0.883298755186722\n"
     ]
    }
   ],
   "source": [
    "#Prueba de exactitud con los datos de entrenamiento\n",
    "model_dt2 = DecisionTreeClassifier(random_state=54321,max_depth=10)\n",
    "model_dt2.fit(train_features,train_target)\n",
    "predictions_dt2 = model_dt2.predict(train_features)\n",
    "accuracy= accuracy_score(train_target,predictions_dt2)\n",
    "print('La exactitud con conjunto de entrenamiento:',accuracy)"
   ]
  },
  {
   "cell_type": "markdown",
   "metadata": {},
   "source": [
    "#### Bosque Aleatorio"
   ]
  },
  {
   "cell_type": "code",
   "execution_count": 13,
   "metadata": {},
   "outputs": [
    {
     "name": "stdout",
     "output_type": "stream",
     "text": [
      "La mayor exactitud es: 0.7978227060653188 con una profundidad de árbol de: 8 y n_estimators 11\n"
     ]
    }
   ],
   "source": [
    "#Entrenamiento de modelo y prueba de exactitud  conjunto de validación\n",
    "best_score = 0\n",
    "\n",
    "#Lazo de modificación hiperparámetros y comparación de exactitud\n",
    "for est in range(1,61,10):\n",
    "    for depth in range(1,11):\n",
    "        model_rf = RandomForestClassifier(random_state = 54321, n_estimators = est, max_depth = depth)\n",
    "        model_rf.fit(train_features,train_target)\n",
    "        score = model_rf.score(val_features,val_target)\n",
    "        #print('La exactitud es;',score,'con una profundidad:',depth, 'y n_estimators:',est)\n",
    "        if score > best_score:\n",
    "            best_score = score\n",
    "            best_est = est\n",
    "            best_depth = depth\n",
    "\n",
    "print ('La mayor exactitud es:',best_score,'con una profundidad de árbol de:',best_depth, 'y n_estimators',best_est)"
   ]
  },
  {
   "cell_type": "markdown",
   "metadata": {},
   "source": [
    "#### REGRESIÓN LOGÍSTICA"
   ]
  },
  {
   "cell_type": "code",
   "execution_count": 21,
   "metadata": {},
   "outputs": [
    {
     "name": "stdout",
     "output_type": "stream",
     "text": [
      "La exactitud del modelo es: 0.6780715396578538\n"
     ]
    }
   ],
   "source": [
    "model_lr = LogisticRegression(random_state = 54321, solver = 'liblinear')\n",
    "model_lr.fit(train_features,train_target)\n",
    "\n",
    "score = model_lr.score(val_features,val_target)\n",
    "\n",
    "print ('La exactitud del modelo es:',score)"
   ]
  },
  {
   "cell_type": "markdown",
   "metadata": {},
   "source": [
    "Comparando la calidad de los modelos en base a su exactitud, podemos afirmar que:\n",
    "- El árbol de decisión tiene una exactitud alta con una profundidad de 10, esto puede implicar un sobreajuste, aunque tomando en cuenta la predicción de los datos de entrenamiento, que no está cercana al 100 (0.88), puede significar que el modelo no está memorizando los datos.\n",
    "- Haciendo el entrenamiento del bosque aleatorio y comparando las respuestas que daban ante los cambios en sus hiperparámentros, establecimos que la combinación mas exacta fue 8 de profundidad y 11 de n_estimators, logrando superar (por muy poco) al árbol de decisión.\n",
    "- La Regresión logística obtuvo el número más bajo de exactitud, incluso siendo superado por el árbol de decisión."
   ]
  },
  {
   "cell_type": "markdown",
   "metadata": {},
   "source": [
    "### Calidad del Modelo con Conjunto de Prueba"
   ]
  },
  {
   "cell_type": "code",
   "execution_count": 15,
   "metadata": {},
   "outputs": [
    {
     "name": "stdout",
     "output_type": "stream",
     "text": [
      "0.8055987558320373\n"
     ]
    }
   ],
   "source": [
    "#Pruba con Árbol de decisión depth 10\n",
    "model_dt = DecisionTreeClassifier(random_state=54321,max_depth=10)\n",
    "model_dt.fit(train_features,train_target)\n",
    "prediction=model_dt.predict(test_features)\n",
    "accuracy = accuracy_score(test_target,prediction)\n",
    "print(accuracy)"
   ]
  },
  {
   "cell_type": "code",
   "execution_count": 16,
   "metadata": {},
   "outputs": [
    {
     "name": "stdout",
     "output_type": "stream",
     "text": [
      "0.8367029548989113\n"
     ]
    }
   ],
   "source": [
    "#Prueba con Random Forest depth 8 y n_estimators 11\n",
    "model_rf = RandomForestClassifier(random_state=54321,max_depth=8,n_estimators=11)\n",
    "model_rf.fit(train_features,train_target)\n",
    "score = model_rf.score(test_features,test_target)\n",
    "print(score)"
   ]
  },
  {
   "cell_type": "code",
   "execution_count": 17,
   "metadata": {
    "scrolled": true
   },
   "outputs": [
    {
     "name": "stdout",
     "output_type": "stream",
     "text": [
      "0.7402799377916018\n"
     ]
    }
   ],
   "source": [
    "#Prueba con Logistic Regression\n",
    "model_lr = LogisticRegression(random_state=54321,solver='liblinear')\n",
    "model_lr.fit(train_features,train_target)\n",
    "score = model_lr.score(test_features,test_target)\n",
    "print (score)"
   ]
  },
  {
   "cell_type": "markdown",
   "metadata": {},
   "source": [
    "El modelo con mejor exactitud, como era de esperarse, es el Árbol Aleatorio, con un score de 0.83 para el conjunto de prueba y los hiperparámetros definidos en la etapa anterior. "
   ]
  },
  {
   "cell_type": "markdown",
   "metadata": {},
   "source": [
    "## PRUEBA DE CORDURA PARA EL MODELO RANDOM FOREST"
   ]
  },
  {
   "cell_type": "markdown",
   "metadata": {},
   "source": [
    "### Verificar la importancia de las características"
   ]
  },
  {
   "cell_type": "code",
   "execution_count": 18,
   "metadata": {},
   "outputs": [
    {
     "data": {
      "image/png": "[encoded data removed]",
      "text/plain": [
       "<Figure size 640x480 with 1 Axes>"
      ]
     },
     "metadata": {},
     "output_type": "display_data"
    }
   ],
   "source": [
    "#ver las columnas que utilizó para clasificar el arbol\n",
    "main_column= pd.DataFrame({'valor':model_rf.feature_importances_},index=['calls','minutes','messages','mb_used'])\n",
    "main_column.sort_values(by='valor', ascending=True,inplace=True)\n",
    "main_column.plot(kind='barh',title='Most Important Features')\n",
    "plt.show()"
   ]
  },
  {
   "cell_type": "markdown",
   "metadata": {},
   "source": [
    "- La columna mb_used es la que tiene mayor peso después del entrenamiento del modelo, esto tiene sentido puesto que en la actualidad el tráfico de internet es prioritario sobre mensajes de texto o llamadas convencionales. \n",
    "- El resto de features tienen un peso prácticamente idéntico."
   ]
  },
  {
   "cell_type": "markdown",
   "metadata": {},
   "source": [
    "### Verificación con un Conjunto de Datos Aleatorio"
   ]
  },
  {
   "cell_type": "code",
   "execution_count": 19,
   "metadata": {},
   "outputs": [
    {
     "name": "stdout",
     "output_type": "stream",
     "text": [
      "Exactitud con datos aleatorios: 0.7200622083981337\n"
     ]
    }
   ],
   "source": [
    "#Aplicación de datos aleatorios para el target de entrenamiento\n",
    "target_random = shuffle(train_target)\n",
    "model_rf.fit(train_features, target_random)\n",
    "score_rand = model_rf.score(test_features, test_target)\n",
    "print('Exactitud con datos aleatorios:',score_rand)\n"
   ]
  },
  {
   "cell_type": "markdown",
   "metadata": {},
   "source": [
    "Un bajón en el score respecto al modelo entrenado con los datos originales(0.83 - 0,71) , nos dice que el modelo está trabajando correctamente, ya que no ha creado patrones irrelevantes en su entrenamiento, que puedan llegar a mantener un score alto a pesar de cambiar los datos de la columna plan sin ninguna relación con los features, y luego predecir con el mismo conjunto de prueba original."
   ]
  },
  {
   "cell_type": "markdown",
   "metadata": {},
   "source": [
    "### Validación Cruzada"
   ]
  },
  {
   "cell_type": "code",
   "execution_count": 20,
   "metadata": {
    "scrolled": true
   },
   "outputs": [
    {
     "name": "stdout",
     "output_type": "stream",
     "text": [
      "Scores de Validación cruzada: [0.81648523 0.77604977 0.80559876 0.80093313 0.81152648]\n",
      "Promedio de los scores: 0.8021186707557545\n"
     ]
    }
   ],
   "source": [
    "#Exactitud para 5 subconjutos \n",
    "scores = cross_val_score(model_rf, features, target, cv=5)  \n",
    "print('Scores de Validación cruzada:',scores)\n",
    "print('Promedio de los scores:', np.mean(scores))"
   ]
  },
  {
   "cell_type": "markdown",
   "metadata": {},
   "source": [
    "Los scores para 5 subconjuntos se mantienen consistentes y cercanos a 0.8 (media), igual que el score para el conjunto de prueba que llegó a los 0.83"
   ]
  },
  {
   "cell_type": "markdown",
   "metadata": {},
   "source": [
    "## CONCLUSIONES"
   ]
  },
  {
   "cell_type": "markdown",
   "metadata": {},
   "source": [
    "- Se importaron los datos para los usuarios de Megaline, y se compobó que no existan faltantes, duplicados, tipo de datos correctos.\n",
    "- La segmenración para aplicar los conjuntos a los modelos, se realizaron en base a la recomendación cuando van a existir 3 grupos, esto es: 60% para entrenamiento, 20% para validación y 20% para prueba.\n",
    "- En cuanto a la exactitud de cada modelo:\n",
    "    - El árbol de decisión tiene una exactitud alta con una profundidad de 10, esto puede implicar un sobreajuste, aunque tomando en cuenta la predicción de los datos de entrenamiento, que no está cercana al 100 (0.88), puede significar que el modelo no está memorizando los datos.\n",
    "    - Haciendo el entrenamiento del bosque aleatorio y comparando las respuestas que daban ante los cambios en sus hiperparámentros, establecimos que la combinación mas exacta fue 8 de profundidad y 11 de n_estimators, logrando superar (por muy poco) al árbol de decisión.\n",
    "    - La Regresión logística obtuvo el número más bajo de exactitud, incluso siendo superado por el árbol de decisión.\n",
    "    - El modelo mas adecuado por exactitud y para evitar en la medida de lo posible el sobreajuste por profundidad, es el random forest, esto siempre y cuando el procesamiento que se requiere no sea un problema.\n",
    "- Se comprobó el score para los 3 modelos, y se confirmó que el de mayor exactitud es el random forest, seguido del árbol de decisión y este último superando a Regresión Logística.\n",
    "- La exactitud que se consiguió con el Bosque Aleatorio llegó a un 0.83\n",
    "- En cuanto a la cordura del modelo:\n",
    "    - La columna mb_used es la que tiene mayor peso después del entrenamiento del modelo, esto tiene sentido puesto que en la actualidad el tráfico de internet es prioritario sobre mensajes de texto o llamadas convencionales.Mientras el resto de features tienen un peso prácticamente idéntico.\n",
    "    - La validación con datos aleatorios confirma que los patrones generados por el modelo están correctamente ajustados de acuerdo al target original.\n",
    "    - La validación cruzada nos indica que el score se mantiene estable para diferentes subconjuntos de los datos (0.8)"
   ]
  }
 ],
 "metadata": {
  "ExecuteTimeLog": [
   {
    "duration": 825,
    "start_time": "2024-10-25T16:16:58.696Z"
   },
   {
    "duration": 716,
    "start_time": "2024-10-25T16:17:38.580Z"
   },
   {
    "duration": 564,
    "start_time": "2024-10-25T16:23:18.095Z"
   },
   {
    "duration": 62,
    "start_time": "2024-10-25T16:23:35.094Z"
   },
   {
    "duration": 16,
    "start_time": "2024-10-25T16:23:54.151Z"
   },
   {
    "duration": 13,
    "start_time": "2024-10-25T16:25:30.033Z"
   },
   {
    "duration": 10,
    "start_time": "2024-10-25T16:25:37.773Z"
   },
   {
    "duration": 9,
    "start_time": "2024-10-25T16:27:23.858Z"
   },
   {
    "duration": 7,
    "start_time": "2024-10-25T16:29:35.750Z"
   },
   {
    "duration": 7,
    "start_time": "2024-10-25T16:30:55.291Z"
   },
   {
    "duration": 5,
    "start_time": "2024-10-25T16:31:10.102Z"
   },
   {
    "duration": 4,
    "start_time": "2024-10-25T16:31:14.603Z"
   },
   {
    "duration": 5,
    "start_time": "2024-10-25T16:31:21.770Z"
   },
   {
    "duration": 4,
    "start_time": "2024-10-25T16:33:39.622Z"
   },
   {
    "duration": 2,
    "start_time": "2024-10-25T16:36:43.696Z"
   },
   {
    "duration": 4,
    "start_time": "2024-10-25T16:44:51.131Z"
   },
   {
    "duration": 18,
    "start_time": "2024-10-25T16:48:04.244Z"
   },
   {
    "duration": 15,
    "start_time": "2024-10-25T16:48:35.169Z"
   },
   {
    "duration": 5,
    "start_time": "2024-10-25T16:48:49.505Z"
   },
   {
    "duration": 12,
    "start_time": "2024-10-25T16:49:05.904Z"
   },
   {
    "duration": 9,
    "start_time": "2024-10-25T16:49:23.914Z"
   },
   {
    "duration": 4,
    "start_time": "2024-10-25T16:49:31.285Z"
   },
   {
    "duration": 3,
    "start_time": "2024-10-25T16:50:36.105Z"
   },
   {
    "duration": 4,
    "start_time": "2024-10-25T16:50:47.266Z"
   },
   {
    "duration": 5,
    "start_time": "2024-10-25T16:51:43.076Z"
   },
   {
    "duration": 3,
    "start_time": "2024-10-25T16:51:44.106Z"
   },
   {
    "duration": 5,
    "start_time": "2024-10-25T16:55:15.558Z"
   },
   {
    "duration": 4,
    "start_time": "2024-10-25T16:55:17.712Z"
   },
   {
    "duration": 5,
    "start_time": "2024-10-25T16:57:53.358Z"
   },
   {
    "duration": 5,
    "start_time": "2024-10-25T16:58:04.465Z"
   },
   {
    "duration": 5,
    "start_time": "2024-10-25T17:00:36.791Z"
   },
   {
    "duration": 3,
    "start_time": "2024-10-25T17:00:39.202Z"
   },
   {
    "duration": 2,
    "start_time": "2024-10-25T17:01:40.079Z"
   },
   {
    "duration": 8,
    "start_time": "2024-10-25T17:03:33.669Z"
   },
   {
    "duration": 16,
    "start_time": "2024-10-25T17:07:06.982Z"
   },
   {
    "duration": 3,
    "start_time": "2024-10-25T17:07:18.408Z"
   },
   {
    "duration": 5,
    "start_time": "2024-10-25T17:14:19.698Z"
   },
   {
    "duration": 4,
    "start_time": "2024-10-25T17:14:29.112Z"
   },
   {
    "duration": 15,
    "start_time": "2024-10-25T17:14:35.822Z"
   },
   {
    "duration": 49,
    "start_time": "2024-10-25T17:14:43.203Z"
   },
   {
    "duration": 55,
    "start_time": "2024-10-25T17:15:15.739Z"
   },
   {
    "duration": 750,
    "start_time": "2024-10-25T19:22:58.199Z"
   },
   {
    "duration": 20,
    "start_time": "2024-10-25T19:22:58.951Z"
   },
   {
    "duration": 10,
    "start_time": "2024-10-25T19:22:58.973Z"
   },
   {
    "duration": 24,
    "start_time": "2024-10-25T19:22:58.986Z"
   },
   {
    "duration": 4,
    "start_time": "2024-10-25T19:22:59.012Z"
   },
   {
    "duration": 4,
    "start_time": "2024-10-25T19:22:59.018Z"
   },
   {
    "duration": 5,
    "start_time": "2024-10-25T19:22:59.025Z"
   },
   {
    "duration": 3,
    "start_time": "2024-10-25T19:22:59.032Z"
   },
   {
    "duration": 4,
    "start_time": "2024-10-25T19:22:59.038Z"
   },
   {
    "duration": 4,
    "start_time": "2024-10-25T19:22:59.045Z"
   },
   {
    "duration": 100,
    "start_time": "2024-10-25T19:22:59.051Z"
   },
   {
    "duration": 62,
    "start_time": "2024-10-25T19:27:29.545Z"
   },
   {
    "duration": 56,
    "start_time": "2024-10-25T19:27:51.253Z"
   },
   {
    "duration": 60,
    "start_time": "2024-10-25T19:32:01.112Z"
   },
   {
    "duration": 2055,
    "start_time": "2024-10-25T19:34:30.209Z"
   },
   {
    "duration": 1996,
    "start_time": "2024-10-25T19:36:17.934Z"
   },
   {
    "duration": 2038,
    "start_time": "2024-10-25T19:37:30.025Z"
   },
   {
    "duration": 2027,
    "start_time": "2024-10-25T19:38:15.082Z"
   },
   {
    "duration": 1967,
    "start_time": "2024-10-25T19:39:40.380Z"
   },
   {
    "duration": 1982,
    "start_time": "2024-10-25T19:39:57.997Z"
   },
   {
    "duration": 58,
    "start_time": "2024-10-25T19:40:16.427Z"
   },
   {
    "duration": 10,
    "start_time": "2024-10-25T19:49:40.456Z"
   },
   {
    "duration": 229,
    "start_time": "2024-10-25T19:57:11.019Z"
   },
   {
    "duration": 12,
    "start_time": "2024-10-25T19:58:29.660Z"
   },
   {
    "duration": 12,
    "start_time": "2024-10-25T19:58:43.385Z"
   },
   {
    "duration": 21,
    "start_time": "2024-10-25T20:33:16.396Z"
   },
   {
    "duration": 5,
    "start_time": "2024-10-25T20:33:23.361Z"
   },
   {
    "duration": 58,
    "start_time": "2024-10-25T20:33:29.095Z"
   },
   {
    "duration": 55,
    "start_time": "2024-10-25T20:35:52.868Z"
   },
   {
    "duration": 7,
    "start_time": "2024-10-25T20:36:22.460Z"
   },
   {
    "duration": 12,
    "start_time": "2024-10-25T20:36:27.990Z"
   },
   {
    "duration": 12,
    "start_time": "2024-10-25T20:37:03.011Z"
   },
   {
    "duration": 8,
    "start_time": "2024-10-25T20:37:12.441Z"
   },
   {
    "duration": 56,
    "start_time": "2024-10-25T20:37:32.515Z"
   },
   {
    "duration": 12,
    "start_time": "2024-10-25T20:37:40.387Z"
   },
   {
    "duration": 60,
    "start_time": "2024-10-25T20:40:48.192Z"
   },
   {
    "duration": 2013,
    "start_time": "2024-10-25T20:46:30.006Z"
   },
   {
    "duration": 2045,
    "start_time": "2024-10-25T20:46:48.878Z"
   },
   {
    "duration": 3,
    "start_time": "2024-10-25T20:51:58.817Z"
   },
   {
    "duration": 2058,
    "start_time": "2024-10-25T20:52:18.069Z"
   },
   {
    "duration": 3008,
    "start_time": "2024-10-25T20:54:02.605Z"
   },
   {
    "duration": 2917,
    "start_time": "2024-10-25T20:54:51.066Z"
   },
   {
    "duration": 9,
    "start_time": "2024-10-25T20:57:30.480Z"
   },
   {
    "duration": 6,
    "start_time": "2024-10-25T21:11:25.781Z"
   },
   {
    "duration": 14,
    "start_time": "2024-10-25T21:11:33.154Z"
   },
   {
    "duration": 2,
    "start_time": "2024-10-25T21:32:07.598Z"
   },
   {
    "duration": 15,
    "start_time": "2024-10-25T21:36:01.828Z"
   },
   {
    "duration": 12,
    "start_time": "2024-10-25T21:36:29.236Z"
   },
   {
    "duration": 31,
    "start_time": "2024-10-25T21:40:24.557Z"
   },
   {
    "duration": 10,
    "start_time": "2024-10-25T21:41:54.059Z"
   },
   {
    "duration": 2,
    "start_time": "2024-10-26T14:28:13.621Z"
   },
   {
    "duration": 2647,
    "start_time": "2024-10-26T14:29:23.291Z"
   },
   {
    "duration": 911,
    "start_time": "2024-10-26T14:31:01.778Z"
   },
   {
    "duration": 18,
    "start_time": "2024-10-26T14:31:02.690Z"
   },
   {
    "duration": 8,
    "start_time": "2024-10-26T14:31:02.709Z"
   },
   {
    "duration": 8,
    "start_time": "2024-10-26T14:31:02.720Z"
   },
   {
    "duration": 4,
    "start_time": "2024-10-26T14:31:02.742Z"
   },
   {
    "duration": 3,
    "start_time": "2024-10-26T14:31:02.747Z"
   },
   {
    "duration": 4,
    "start_time": "2024-10-26T14:31:02.752Z"
   },
   {
    "duration": 3,
    "start_time": "2024-10-26T14:31:02.758Z"
   },
   {
    "duration": 4,
    "start_time": "2024-10-26T14:31:02.763Z"
   },
   {
    "duration": 3,
    "start_time": "2024-10-26T14:31:02.769Z"
   },
   {
    "duration": 89,
    "start_time": "2024-10-26T14:31:02.774Z"
   },
   {
    "duration": 11,
    "start_time": "2024-10-26T14:31:02.865Z"
   },
   {
    "duration": 2896,
    "start_time": "2024-10-26T14:31:02.878Z"
   },
   {
    "duration": 10,
    "start_time": "2024-10-26T14:31:05.777Z"
   },
   {
    "duration": 12,
    "start_time": "2024-10-26T14:31:05.789Z"
   },
   {
    "duration": 52,
    "start_time": "2024-10-26T14:31:05.802Z"
   },
   {
    "duration": 8,
    "start_time": "2024-10-26T14:31:05.856Z"
   },
   {
    "duration": 292,
    "start_time": "2024-10-26T14:31:05.866Z"
   },
   {
    "duration": 22,
    "start_time": "2024-10-26T14:31:49.092Z"
   },
   {
    "duration": 17,
    "start_time": "2024-10-26T14:32:00.747Z"
   },
   {
    "duration": 16,
    "start_time": "2024-10-26T14:32:24.234Z"
   },
   {
    "duration": 15,
    "start_time": "2024-10-26T14:36:02.284Z"
   },
   {
    "duration": 3,
    "start_time": "2024-10-26T14:36:40.829Z"
   },
   {
    "duration": 16,
    "start_time": "2024-10-26T14:36:55.972Z"
   },
   {
    "duration": 14,
    "start_time": "2024-10-26T14:45:14.756Z"
   },
   {
    "duration": 3,
    "start_time": "2024-10-26T14:45:41.390Z"
   },
   {
    "duration": 3,
    "start_time": "2024-10-26T14:45:45.611Z"
   },
   {
    "duration": 13,
    "start_time": "2024-10-26T15:34:06.925Z"
   },
   {
    "duration": 4,
    "start_time": "2024-10-26T15:34:15.325Z"
   },
   {
    "duration": 124,
    "start_time": "2024-10-26T15:35:35.995Z"
   },
   {
    "duration": 109,
    "start_time": "2024-10-26T15:38:21.196Z"
   },
   {
    "duration": 111,
    "start_time": "2024-10-26T15:39:08.600Z"
   },
   {
    "duration": 122,
    "start_time": "2024-10-26T15:43:55.127Z"
   },
   {
    "duration": 109,
    "start_time": "2024-10-26T15:44:04.446Z"
   },
   {
    "duration": 120,
    "start_time": "2024-10-26T15:44:11.194Z"
   },
   {
    "duration": 182,
    "start_time": "2024-10-26T15:44:19.795Z"
   },
   {
    "duration": 108,
    "start_time": "2024-10-26T15:44:28.956Z"
   },
   {
    "duration": 17,
    "start_time": "2024-10-26T16:03:45.338Z"
   },
   {
    "duration": 3,
    "start_time": "2024-10-26T16:03:53.519Z"
   },
   {
    "duration": 145,
    "start_time": "2024-10-26T16:03:57.412Z"
   },
   {
    "duration": 45,
    "start_time": "2024-10-26T16:04:47.289Z"
   },
   {
    "duration": 32,
    "start_time": "2024-10-26T16:06:01.930Z"
   },
   {
    "duration": 3,
    "start_time": "2024-10-26T16:17:53.210Z"
   },
   {
    "duration": 181,
    "start_time": "2024-10-26T16:18:43.388Z"
   },
   {
    "duration": 3,
    "start_time": "2024-10-26T16:19:00.817Z"
   },
   {
    "duration": 173,
    "start_time": "2024-10-26T16:19:05.095Z"
   },
   {
    "duration": 174,
    "start_time": "2024-10-26T16:22:10.783Z"
   },
   {
    "duration": 958,
    "start_time": "2024-10-26T16:39:09.753Z"
   },
   {
    "duration": 13,
    "start_time": "2024-10-26T16:39:10.713Z"
   },
   {
    "duration": 15,
    "start_time": "2024-10-26T16:39:10.728Z"
   },
   {
    "duration": 11,
    "start_time": "2024-10-26T16:39:10.746Z"
   },
   {
    "duration": 4,
    "start_time": "2024-10-26T16:39:10.759Z"
   },
   {
    "duration": 3,
    "start_time": "2024-10-26T16:39:10.765Z"
   },
   {
    "duration": 4,
    "start_time": "2024-10-26T16:39:10.769Z"
   },
   {
    "duration": 3,
    "start_time": "2024-10-26T16:39:10.775Z"
   },
   {
    "duration": 4,
    "start_time": "2024-10-26T16:39:10.780Z"
   },
   {
    "duration": 3,
    "start_time": "2024-10-26T16:39:10.787Z"
   },
   {
    "duration": 100,
    "start_time": "2024-10-26T16:39:10.791Z"
   },
   {
    "duration": 12,
    "start_time": "2024-10-26T16:39:10.893Z"
   },
   {
    "duration": 2924,
    "start_time": "2024-10-26T16:39:10.907Z"
   },
   {
    "duration": 17,
    "start_time": "2024-10-26T16:39:13.833Z"
   },
   {
    "duration": 13,
    "start_time": "2024-10-26T16:39:13.853Z"
   },
   {
    "duration": 36,
    "start_time": "2024-10-26T16:39:13.867Z"
   },
   {
    "duration": 9,
    "start_time": "2024-10-26T16:39:13.904Z"
   },
   {
    "duration": 205,
    "start_time": "2024-10-26T16:39:13.915Z"
   },
   {
    "duration": 40,
    "start_time": "2024-10-26T16:39:14.122Z"
   },
   {
    "duration": 194,
    "start_time": "2024-10-26T16:39:14.164Z"
   },
   {
    "duration": 9,
    "start_time": "2024-10-26T16:40:10.171Z"
   }
  ],
  "kernelspec": {
   "display_name": "Python 3 (ipykernel)",
   "language": "python",
   "name": "python3"
  },
  "language_info": {
   "codemirror_mode": {
    "name": "ipython",
    "version": 3
   },
   "file_extension": ".py",
   "mimetype": "text/x-python",
   "name": "python",
   "nbconvert_exporter": "python",
   "pygments_lexer": "ipython3",
   "version": "3.9.19"
  },
  "toc": {
   "base_numbering": 1,
   "nav_menu": {
    "height": "132px",
    "width": "242px"
   },
   "number_sections": true,
   "sideBar": true,
   "skip_h1_title": true,
   "title_cell": "Table of Contents",
   "title_sidebar": "Contents",
   "toc_cell": false,
   "toc_position": {
    "height": "calc(100% - 180px)",
    "left": "10px",
    "top": "150px",
    "width": "211.797px"
   },
   "toc_section_display": true,
   "toc_window_display": true
  }
 },
 "nbformat": 4,
 "nbformat_minor": 2
}
